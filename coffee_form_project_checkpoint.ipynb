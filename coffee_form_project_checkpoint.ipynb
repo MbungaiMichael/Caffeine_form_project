{
  "cells": [
    {
      "cell_type": "markdown",
      "metadata": {
        "id": "view-in-github",
        "colab_type": "text"
      },
      "source": [
        "<a href=\"https://colab.research.google.com/github/Mikelbernard12/Mikelbernard12/blob/main/coffee_form_project_checkpoint.ipynb\" target=\"_parent\"><img src=\"https://colab.research.google.com/assets/colab-badge.svg\" alt=\"Open In Colab\"/></a>"
      ]
    },
    {
      "cell_type": "markdown",
      "id": "fbd32e07",
      "metadata": {
        "id": "fbd32e07"
      },
      "source": [
        "# Scope\n",
        "\n",
        "Caffeine Form is a company creating coffee cups from recycled material.\n",
        "Caffeine Form sells cups to coffee shops through their website.\n",
        "They would prefer to partner directly with the shops.\n",
        "The company believes that stores with more reviews will help them to better market their product.\n",
        "The company want to focus on the types of shop that get the most reviews.\n",
        "Our objective is to report on how types of shop and number of reviews are related.\n"
      ]
    },
    {
      "cell_type": "markdown",
      "id": "945d98ea",
      "metadata": {
        "id": "945d98ea"
      },
      "source": [
        "# Project steps\n",
        "\n",
        "1. Source data from various online sources, download the data files onto your local storage under the project folder.\n",
        "2. Import libraries needed for the project.\n",
        "3. Read and describe details of the datasets.\n",
        "4. Clean the data and store the clean version of the data in a clean folder containing only the clean data files\n",
        "5. Visualize the different relationships among variables and also, analyze these visualization.\n",
        "\n"
      ]
    },
    {
      "cell_type": "markdown",
      "id": "dbbb8d6d",
      "metadata": {
        "id": "dbbb8d6d"
      },
      "source": [
        "# Data Source\n",
        "\n",
        "- This dataset was obtained from Datacamp\n"
      ]
    },
    {
      "cell_type": "markdown",
      "id": "ad1a58c6",
      "metadata": {
        "id": "ad1a58c6"
      },
      "source": [
        "# 1. Import libraries"
      ]
    },
    {
      "cell_type": "code",
      "execution_count": null,
      "id": "2b7619e8",
      "metadata": {
        "id": "2b7619e8"
      },
      "outputs": [],
      "source": [
        "import pandas as pd\n",
        "import seaborn as sns\n",
        "import matplotlib.pyplot as plt\n",
        "import numpy as np\n"
      ]
    },
    {
      "cell_type": "markdown",
      "id": "97a040c6",
      "metadata": {
        "id": "97a040c6"
      },
      "source": [
        "# 2. Read and describe details of the datasets\n"
      ]
    },
    {
      "cell_type": "markdown",
      "id": "b6a48032",
      "metadata": {
        "id": "b6a48032"
      },
      "source": [
        "## 2.1 Read the dataset\n"
      ]
    },
    {
      "cell_type": "code",
      "execution_count": null,
      "id": "1181afde",
      "metadata": {
        "id": "1181afde",
        "outputId": "1cf45717-189e-43ec-ac45-a01a85065b2c"
      },
      "outputs": [
        {
          "data": {
            "text/html": [
              "<div>\n",
              "<style scoped>\n",
              "    .dataframe tbody tr th:only-of-type {\n",
              "        vertical-align: middle;\n",
              "    }\n",
              "\n",
              "    .dataframe tbody tr th {\n",
              "        vertical-align: top;\n",
              "    }\n",
              "\n",
              "    .dataframe thead th {\n",
              "        text-align: right;\n",
              "    }\n",
              "</style>\n",
              "<table border=\"1\" class=\"dataframe\">\n",
              "  <thead>\n",
              "    <tr style=\"text-align: right;\">\n",
              "      <th></th>\n",
              "      <th>Region</th>\n",
              "      <th>Place name</th>\n",
              "      <th>Place type</th>\n",
              "      <th>Rating</th>\n",
              "      <th>Reviews</th>\n",
              "      <th>Price</th>\n",
              "      <th>Delivery option</th>\n",
              "      <th>Dine in option</th>\n",
              "      <th>Takeout option</th>\n",
              "    </tr>\n",
              "  </thead>\n",
              "  <tbody>\n",
              "    <tr>\n",
              "      <th>0</th>\n",
              "      <td>C</td>\n",
              "      <td>Dim Kavu</td>\n",
              "      <td>Others</td>\n",
              "      <td>4.6</td>\n",
              "      <td>206.0</td>\n",
              "      <td>$$</td>\n",
              "      <td>False</td>\n",
              "      <td>NaN</td>\n",
              "      <td>NaN</td>\n",
              "    </tr>\n",
              "    <tr>\n",
              "      <th>1</th>\n",
              "      <td>C</td>\n",
              "      <td>Коферум</td>\n",
              "      <td>Cafe</td>\n",
              "      <td>5.0</td>\n",
              "      <td>24.0</td>\n",
              "      <td>$$</td>\n",
              "      <td>False</td>\n",
              "      <td>NaN</td>\n",
              "      <td>True</td>\n",
              "    </tr>\n",
              "    <tr>\n",
              "      <th>2</th>\n",
              "      <td>C</td>\n",
              "      <td>Кофейня Світ Чаю</td>\n",
              "      <td>Coffee shop</td>\n",
              "      <td>5.0</td>\n",
              "      <td>11.0</td>\n",
              "      <td>$$</td>\n",
              "      <td>False</td>\n",
              "      <td>NaN</td>\n",
              "      <td>True</td>\n",
              "    </tr>\n",
              "    <tr>\n",
              "      <th>3</th>\n",
              "      <td>C</td>\n",
              "      <td>Кофейня Starcoff</td>\n",
              "      <td>Coffee shop</td>\n",
              "      <td>4.4</td>\n",
              "      <td>331.0</td>\n",
              "      <td>$$</td>\n",
              "      <td>False</td>\n",
              "      <td>True</td>\n",
              "      <td>True</td>\n",
              "    </tr>\n",
              "    <tr>\n",
              "      <th>4</th>\n",
              "      <td>C</td>\n",
              "      <td>Кофейня \"Friend Zone\"</td>\n",
              "      <td>Coffee shop</td>\n",
              "      <td>5.0</td>\n",
              "      <td>12.0</td>\n",
              "      <td>$$</td>\n",
              "      <td>False</td>\n",
              "      <td>True</td>\n",
              "      <td>True</td>\n",
              "    </tr>\n",
              "  </tbody>\n",
              "</table>\n",
              "</div>"
            ],
            "text/plain": [
              "  Region             Place name   Place type  Rating  Reviews Price   \n",
              "0      C               Dim Kavu       Others     4.6    206.0    $$  \\\n",
              "1      C                Коферум         Cafe     5.0     24.0    $$   \n",
              "2      C       Кофейня Світ Чаю  Coffee shop     5.0     11.0    $$   \n",
              "3      C       Кофейня Starcoff  Coffee shop     4.4    331.0    $$   \n",
              "4      C  Кофейня \"Friend Zone\"  Coffee shop     5.0     12.0    $$   \n",
              "\n",
              "   Delivery option Dine in option Takeout option  \n",
              "0            False            NaN            NaN  \n",
              "1            False            NaN           True  \n",
              "2            False            NaN           True  \n",
              "3            False           True           True  \n",
              "4            False           True           True  "
            ]
          },
          "execution_count": 40,
          "metadata": {},
          "output_type": "execute_result"
        }
      ],
      "source": [
        "coffee_df = pd.read_csv('D:/datasets/coffee_form/coffee.csv')\n",
        "coffee_df.head(5)"
      ]
    },
    {
      "cell_type": "markdown",
      "id": "05e62dfb",
      "metadata": {
        "id": "05e62dfb"
      },
      "source": [
        "## 2.2 Describe details of the datasets"
      ]
    },
    {
      "cell_type": "code",
      "execution_count": null,
      "id": "ca4501e9",
      "metadata": {
        "id": "ca4501e9",
        "outputId": "7ecfcdb5-7907-4f3b-9fe3-3241018c7f58"
      },
      "outputs": [
        {
          "name": "stdout",
          "output_type": "stream",
          "text": [
            "<class 'pandas.core.frame.DataFrame'>\n",
            "RangeIndex: 200 entries, 0 to 199\n",
            "Data columns (total 9 columns):\n",
            " #   Column           Non-Null Count  Dtype  \n",
            "---  ------           --------------  -----  \n",
            " 0   Region           200 non-null    object \n",
            " 1   Place name       200 non-null    object \n",
            " 2   Place type       200 non-null    object \n",
            " 3   Rating           198 non-null    float64\n",
            " 4   Reviews          198 non-null    float64\n",
            " 5   Price            200 non-null    object \n",
            " 6   Delivery option  200 non-null    bool   \n",
            " 7   Dine in option   140 non-null    object \n",
            " 8   Takeout option   144 non-null    object \n",
            "dtypes: bool(1), float64(2), object(6)\n",
            "memory usage: 12.8+ KB\n"
          ]
        }
      ],
      "source": [
        "coffee_df.info()"
      ]
    },
    {
      "cell_type": "markdown",
      "id": "757ad657",
      "metadata": {
        "id": "757ad657"
      },
      "source": [
        "The dataset consists of 9 columns, 200 entries. the columns are;\n",
        "Region            \n",
        "Place type   \n",
        "Rating       \n",
        "Reviews          \n",
        "Price            \n",
        "Delivery option    \n",
        "Dine in option   \n",
        "Takeout option   "
      ]
    },
    {
      "cell_type": "markdown",
      "id": "d9a857e0",
      "metadata": {
        "id": "d9a857e0"
      },
      "source": [
        "Info about each columns:\n",
        "\n",
        " Region: This column contains the regions which are between A to J.\n",
        "There are no missing values with 200 entries and an object datatype.\n",
        "\n",
        " Place name: Also, a column with no missing values with 200 entries and of the object datatype\n",
        "\n",
        " Place type: A column which consist of 200 entries and no missing values.\n",
        "There are 4 shop type which are 'coffe shop', 'Cafe', 'Espresso bar' and 'Others' anything besides these shop type is filled with 'unknown'.\n",
        "\n",
        " There are 2 missing values each in Rating and Reviews columns.\n",
        "the missing values in the Reviews column are replaced with the median value which is 271.5,\n",
        "while that of the Rating table are filled with 0.\n",
        "\n",
        " Delivery option and Price are column with no missing entries out of the 200 entries.\n",
        "There are 60 missing values in Dine in option column and 56 missing values in takeout option column.\n",
        "\n",
        " Checked if all the values within the table are same with those in the description using the isin() function on the dataset.\n",
        "Proceeded with filling the null spaces in the table with the appropriate values.\n",
        "\n",
        " Proceeded with filling the null spaces in the table with the appropriate values by putting them in a dictionary and passing it into fillna() method."
      ]
    },
    {
      "cell_type": "code",
      "execution_count": null,
      "id": "7840e787",
      "metadata": {
        "id": "7840e787",
        "outputId": "fcb36e02-2c95-41fe-e2f7-53874d99b456"
      },
      "outputs": [
        {
          "data": {
            "text/html": [
              "<div>\n",
              "<style scoped>\n",
              "    .dataframe tbody tr th:only-of-type {\n",
              "        vertical-align: middle;\n",
              "    }\n",
              "\n",
              "    .dataframe tbody tr th {\n",
              "        vertical-align: top;\n",
              "    }\n",
              "\n",
              "    .dataframe thead th {\n",
              "        text-align: right;\n",
              "    }\n",
              "</style>\n",
              "<table border=\"1\" class=\"dataframe\">\n",
              "  <thead>\n",
              "    <tr style=\"text-align: right;\">\n",
              "      <th></th>\n",
              "      <th>Region</th>\n",
              "      <th>Place name</th>\n",
              "      <th>Place type</th>\n",
              "      <th>Rating</th>\n",
              "      <th>Reviews</th>\n",
              "      <th>Price</th>\n",
              "      <th>Delivery option</th>\n",
              "      <th>Dine in option</th>\n",
              "      <th>Takeout option</th>\n",
              "    </tr>\n",
              "  </thead>\n",
              "  <tbody>\n",
              "    <tr>\n",
              "      <th>0</th>\n",
              "      <td>C</td>\n",
              "      <td>Dim Kavu</td>\n",
              "      <td>Others</td>\n",
              "      <td>4.6</td>\n",
              "      <td>206.0</td>\n",
              "      <td>$$</td>\n",
              "      <td>False</td>\n",
              "      <td>False</td>\n",
              "      <td>False</td>\n",
              "    </tr>\n",
              "    <tr>\n",
              "      <th>1</th>\n",
              "      <td>C</td>\n",
              "      <td>Коферум</td>\n",
              "      <td>Cafe</td>\n",
              "      <td>5.0</td>\n",
              "      <td>24.0</td>\n",
              "      <td>$$</td>\n",
              "      <td>False</td>\n",
              "      <td>False</td>\n",
              "      <td>True</td>\n",
              "    </tr>\n",
              "    <tr>\n",
              "      <th>2</th>\n",
              "      <td>C</td>\n",
              "      <td>Кофейня Світ Чаю</td>\n",
              "      <td>Coffee shop</td>\n",
              "      <td>5.0</td>\n",
              "      <td>11.0</td>\n",
              "      <td>$$</td>\n",
              "      <td>False</td>\n",
              "      <td>False</td>\n",
              "      <td>True</td>\n",
              "    </tr>\n",
              "    <tr>\n",
              "      <th>3</th>\n",
              "      <td>C</td>\n",
              "      <td>Кофейня Starcoff</td>\n",
              "      <td>Coffee shop</td>\n",
              "      <td>4.4</td>\n",
              "      <td>331.0</td>\n",
              "      <td>$$</td>\n",
              "      <td>False</td>\n",
              "      <td>True</td>\n",
              "      <td>True</td>\n",
              "    </tr>\n",
              "    <tr>\n",
              "      <th>4</th>\n",
              "      <td>C</td>\n",
              "      <td>Кофейня \"Friend Zone\"</td>\n",
              "      <td>Coffee shop</td>\n",
              "      <td>5.0</td>\n",
              "      <td>12.0</td>\n",
              "      <td>$$</td>\n",
              "      <td>False</td>\n",
              "      <td>True</td>\n",
              "      <td>True</td>\n",
              "    </tr>\n",
              "    <tr>\n",
              "      <th>...</th>\n",
              "      <td>...</td>\n",
              "      <td>...</td>\n",
              "      <td>...</td>\n",
              "      <td>...</td>\n",
              "      <td>...</td>\n",
              "      <td>...</td>\n",
              "      <td>...</td>\n",
              "      <td>...</td>\n",
              "      <td>...</td>\n",
              "    </tr>\n",
              "    <tr>\n",
              "      <th>195</th>\n",
              "      <td>H</td>\n",
              "      <td>Artist</td>\n",
              "      <td>Others</td>\n",
              "      <td>4.6</td>\n",
              "      <td>963.0</td>\n",
              "      <td>$$$</td>\n",
              "      <td>False</td>\n",
              "      <td>True</td>\n",
              "      <td>True</td>\n",
              "    </tr>\n",
              "    <tr>\n",
              "      <th>196</th>\n",
              "      <td>H</td>\n",
              "      <td>Dream Cafe</td>\n",
              "      <td>Cafe</td>\n",
              "      <td>4.3</td>\n",
              "      <td>646.0</td>\n",
              "      <td>$$</td>\n",
              "      <td>False</td>\n",
              "      <td>True</td>\n",
              "      <td>True</td>\n",
              "    </tr>\n",
              "    <tr>\n",
              "      <th>197</th>\n",
              "      <td>H</td>\n",
              "      <td>РУТА КАФЕ ПП КУЛІЧЕНКО К.І.</td>\n",
              "      <td>Cafe</td>\n",
              "      <td>4.6</td>\n",
              "      <td>16.0</td>\n",
              "      <td>$$</td>\n",
              "      <td>False</td>\n",
              "      <td>True</td>\n",
              "      <td>True</td>\n",
              "    </tr>\n",
              "    <tr>\n",
              "      <th>198</th>\n",
              "      <td>H</td>\n",
              "      <td>Ob'yektna Kava</td>\n",
              "      <td>Coffee shop</td>\n",
              "      <td>4.7</td>\n",
              "      <td>599.0</td>\n",
              "      <td>$$</td>\n",
              "      <td>False</td>\n",
              "      <td>True</td>\n",
              "      <td>True</td>\n",
              "    </tr>\n",
              "    <tr>\n",
              "      <th>199</th>\n",
              "      <td>H</td>\n",
              "      <td>О...МАРАТ КАФЕ ПП ПОЛІСТЕП</td>\n",
              "      <td>Cafe</td>\n",
              "      <td>4.3</td>\n",
              "      <td>341.0</td>\n",
              "      <td>$$</td>\n",
              "      <td>False</td>\n",
              "      <td>True</td>\n",
              "      <td>False</td>\n",
              "    </tr>\n",
              "  </tbody>\n",
              "</table>\n",
              "<p>200 rows × 9 columns</p>\n",
              "</div>"
            ],
            "text/plain": [
              "    Region                   Place name   Place type  Rating  Reviews Price   \n",
              "0        C                     Dim Kavu       Others     4.6    206.0    $$  \\\n",
              "1        C                      Коферум         Cafe     5.0     24.0    $$   \n",
              "2        C             Кофейня Світ Чаю  Coffee shop     5.0     11.0    $$   \n",
              "3        C             Кофейня Starcoff  Coffee shop     4.4    331.0    $$   \n",
              "4        C        Кофейня \"Friend Zone\"  Coffee shop     5.0     12.0    $$   \n",
              "..     ...                          ...          ...     ...      ...   ...   \n",
              "195      H                       Artist       Others     4.6    963.0   $$$   \n",
              "196      H                   Dream Cafe         Cafe     4.3    646.0    $$   \n",
              "197      H  РУТА КАФЕ ПП КУЛІЧЕНКО К.І.         Cafe     4.6     16.0    $$   \n",
              "198      H               Ob'yektna Kava  Coffee shop     4.7    599.0    $$   \n",
              "199      H   О...МАРАТ КАФЕ ПП ПОЛІСТЕП         Cafe     4.3    341.0    $$   \n",
              "\n",
              "     Delivery option Dine in option Takeout option  \n",
              "0              False          False          False  \n",
              "1              False          False           True  \n",
              "2              False          False           True  \n",
              "3              False           True           True  \n",
              "4              False           True           True  \n",
              "..               ...            ...            ...  \n",
              "195            False           True           True  \n",
              "196            False           True           True  \n",
              "197            False           True           True  \n",
              "198            False           True           True  \n",
              "199            False           True          False  \n",
              "\n",
              "[200 rows x 9 columns]"
            ]
          },
          "execution_count": 42,
          "metadata": {},
          "output_type": "execute_result"
        }
      ],
      "source": [
        "value = coffee_df.Reviews.median()\n",
        "dict_replacement = {\n",
        " 'Rating': 0,\n",
        " 'Reviews': coffee_df.Reviews.median(),\n",
        " 'Delivery option':'False',\n",
        " 'Dine in option': 'False',\n",
        " 'Takeout option': 'False'}\n",
        "coffee_df.fillna(dict_replacement)"
      ]
    },
    {
      "cell_type": "code",
      "execution_count": null,
      "id": "58576831",
      "metadata": {
        "id": "58576831",
        "outputId": "523d57cc-afb1-47f9-9861-ed13239e37b4"
      },
      "outputs": [
        {
          "data": {
            "image/png": "[encoded data removed]",
            "text/plain": [
              "<Figure size 640x480 with 1 Axes>"
            ]
          },
          "metadata": {},
          "output_type": "display_data"
        }
      ],
      "source": [
        "w = len(coffee_df[coffee_df['Place type'] == 'Coffee shop'])\n",
        "x = len(coffee_df[coffee_df['Place type'] == 'Cafe'])\n",
        "y = len(coffee_df[coffee_df['Place type'] == 'Others'])\n",
        "z = len(coffee_df[coffee_df['Place type'] == 'Espresso bar'])\n",
        "market = [w,x,y,z]\n",
        "lis = ['Coffee shop','Cafe','Others','Espresso bar']\n",
        "plt.bar(lis, market)\n",
        "plt.title('Common Place types')\n",
        "plt.xlabel('Place types')\n",
        "plt.ylabel('Count')\n",
        "plt.show()\n"
      ]
    },
    {
      "cell_type": "markdown",
      "id": "fd763ed3",
      "metadata": {
        "id": "fd763ed3"
      },
      "source": [
        "From the Common Place types bar chart above:\n",
        "There are four possible types of store included in this data.\n",
        "The most common type listed is a coffee shop, with cafe being second although with half the number of locations.\n",
        "The categories are unbalanced, with most observations being either Coffee Shop or Cafe.\n",
        "The team should focus on distributing their new cups in coffee shops as they are more common."
      ]
    },
    {
      "cell_type": "markdown",
      "id": "2515a464",
      "metadata": {
        "id": "2515a464"
      },
      "source": [
        "Looking at all reviews, we can see from the 'Count vs Number of reviews' histogram that most places have had less than 1000 reviews. The distribution of the number of reviews is right skewed. There are some outliers that get more than 2000 reviews but this is very uncommon.\n",
        "\n",
        "When looking for places that have high reviews the team should aim for locations having over 1000 reviews, but be aware they may need to work with 500 reviews or more."
      ]
    },
    {
      "cell_type": "code",
      "execution_count": null,
      "id": "309efb4d",
      "metadata": {
        "id": "309efb4d",
        "outputId": "a477cb66-aa4f-43bf-d956-17a2b45e4ff1"
      },
      "outputs": [
        {
          "data": {
            "text/plain": [
              "Text(0, 0.5, 'Count')"
            ]
          },
          "execution_count": 44,
          "metadata": {},
          "output_type": "execute_result"
        },
        {
          "data": {
            "image/png": "[encoded data removed]",
            "text/plain": [
              "<Figure size 640x480 with 1 Axes>"
            ]
          },
          "metadata": {},
          "output_type": "display_data"
        }
      ],
      "source": [
        "sns.histplot(coffee_df['Reviews'],bins=50,binrange=(0,3000))\n",
        "plt.title('Count vs Number of reviews')\n",
        "plt.xlabel('Number of Reviews')\n",
        "plt.ylabel('Count')"
      ]
    },
    {
      "cell_type": "markdown",
      "id": "ccbebf85",
      "metadata": {
        "id": "ccbebf85"
      },
      "source": [
        "\n",
        "\n"
      ]
    },
    {
      "cell_type": "markdown",
      "id": "ea4576cb",
      "metadata": {
        "id": "ea4576cb"
      },
      "source": [
        "Finally we want to combine the two pieces of information to see how the place type impacts number of reviews. So far coffee shops with over 1000 reviews would be ideal but we need to look at the two variables together to see if this is realistic.\n",
        "\n",
        "When looking at just the reviews we excluded a single outlying value so that we could see the majority of the data. To show the impact, we can look at the range of number of reviews by place with this outlier in the data. In the graphic below you can see that this outlier is dominating the data and making comparison difficult. To make it easier to compare the rest of the data, we will remove this outlier."
      ]
    },
    {
      "cell_type": "code",
      "execution_count": null,
      "id": "e86a4cc2",
      "metadata": {
        "id": "e86a4cc2",
        "outputId": "0bf6d1a3-c1ce-4bb2-e5e7-9a2879307dc1"
      },
      "outputs": [
        {
          "data": {
            "text/plain": [
              "Text(0.5, 1.0, 'Reviews vs Place type')"
            ]
          },
          "execution_count": 45,
          "metadata": {},
          "output_type": "execute_result"
        },
        {
          "data": {
            "image/png": "[encoded data removed]",
            "text/plain": [
              "<Figure size 640x480 with 1 Axes>"
            ]
          },
          "metadata": {},
          "output_type": "display_data"
        }
      ],
      "source": [
        "sns.boxplot(data= coffee_df, x='Place type', y='Reviews')\n",
        "plt.title('Reviews vs Place type')"
      ]
    },
    {
      "cell_type": "markdown",
      "id": "f922d69c",
      "metadata": {
        "id": "f922d69c"
      },
      "source": [
        "After we remove the outlier we can focus on the main range of data. Although Coffee Shops do include the place types with the largest number of reviews, the interquartile range of the number of reviews is lower than Cafe and espresso bar types. This would suggest that the majority of the number of reviews may be lower than other types. However, this could also be an effect of having the largest number of locations, so the large number of low review locations brings the median down."
      ]
    },
    {
      "cell_type": "code",
      "execution_count": null,
      "id": "3883d249",
      "metadata": {
        "scrolled": true,
        "id": "3883d249",
        "outputId": "f2842b1b-8c1d-46b7-f45f-5aaf27a4bc72"
      },
      "outputs": [
        {
          "data": {
            "text/plain": [
              "Text(0.5, 1.0, 'Reviews vs Place type')"
            ]
          },
          "execution_count": 46,
          "metadata": {},
          "output_type": "execute_result"
        },
        {
          "data": {
            "image/png": "[encoded data removed]",
            "text/plain": [
              "<Figure size 640x480 with 1 Axes>"
            ]
          },
          "metadata": {},
          "output_type": "display_data"
        }
      ],
      "source": [
        "ax = sns.boxplot(data= coffee_df, x='Place type', y='Reviews')\n",
        "ax.set_ylim([0,3000])\n",
        "plt.title('Reviews vs Place type')"
      ]
    }
  ],
  "metadata": {
    "kernelspec": {
      "display_name": "Python 3 (ipykernel)",
      "language": "python",
      "name": "python3"
    },
    "language_info": {
      "codemirror_mode": {
        "name": "ipython",
        "version": 3
      },
      "file_extension": ".py",
      "mimetype": "text/x-python",
      "name": "python",
      "nbconvert_exporter": "python",
      "pygments_lexer": "ipython3",
      "version": "3.10.9"
    },
    "colab": {
      "provenance": [],
      "include_colab_link": true
    }
  },
  "nbformat": 4,
  "nbformat_minor": 5
}